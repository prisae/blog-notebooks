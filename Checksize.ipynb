{
 "metadata": {
  "name": "",
  "signature": "sha256:50883cb94c785a53398e59e0c8d5204d52b470e9fb5ffba91c72329fee25e654"
 },
 "nbformat": 3,
 "nbformat_minor": 0,
 "worksheets": [
  {
   "cells": [
    {
     "cell_type": "markdown",
     "metadata": {},
     "source": [
      "## checksize()\n",
      "\n",
      "The function `checksize` saves a figure as a pdf with `plt.savefig`. It then reads the created pdf with `PyPDF2` and compares the pdf-size with the specified, desired size. If the difference is bigger than the defined precision, it adjusts the figure-size and calls recursively `checksize` again, until the precision is matched."
     ]
    },
    {
     "cell_type": "code",
     "collapsed": false,
     "input": [
      "import numpy as np\n",
      "import matplotlib.pyplot as plt\n",
      "from PyPDF2 import PdfFileReader # Read pdf\n",
      "from wand.image import Image as Image # Plot pdf\n",
      "# Increase font size, set CM as default text, and use LaTeX\n",
      "rc('font', **{'size': 16, 'family': 'serif', 'serif': ['Computer Modern Roman']})\n",
      "rc('text', usetex=True)\n",
      "# Define colours (taken from http://colorbrewer2.org)\n",
      "clr = ['#377eb8', '#e41a1c', '#4daf4a', '#984ea3', '#ff7f00', '#ffff33', '#a65628']"
     ],
     "language": "python",
     "metadata": {},
     "outputs": [],
     "prompt_number": 1
    },
    {
     "cell_type": "markdown",
     "metadata": {},
     "source": [
      "### Load the `checksize`-function\n",
      "(You can find it in the notebook `adashof.ipynb`, in the same repo as this notebook)."
     ]
    },
    {
     "cell_type": "code",
     "collapsed": true,
     "input": [
      "%load -s checksize adashof.py"
     ],
     "language": "python",
     "metadata": {},
     "outputs": [],
     "prompt_number": 2
    },
    {
     "cell_type": "code",
     "collapsed": false,
     "input": [
      "def checksize(fhndl, name, dsize, precision=0.01, extent=0.05, kwargs={}, _cf=False):\n",
      "    \"\"\"Print figure with 'name.pdf', check size, compare with dsize, and adjust if required\n",
      "\n",
      "    Parameters\n",
      "    ----------\n",
      "    fhndl : figure-handle\n",
      "        Figure handle of the figure to be saved.\n",
      "    name : string\n",
      "        Figure name.\n",
      "    dsize : list of two floats\n",
      "        Desired size of pdf in cm.\n",
      "    precision : float, optional; <0.01>\n",
      "        Desired precision in cm of the dimension, defaults to 1 mm.\n",
      "    extent : float or list of floats, optional; <0.01>\n",
      "        - If float, then bbox_inches is set to tight, and pad_inches=extent.\n",
      "        - If it is an array of two numbers it sets the percentaged extent-width,\n",
      "          `Bbox.expanded`.\n",
      "        - If it is an array of four numbers it sets [x0, y0, x1, y1] of Bbox.\n",
      "    kwargs : dict\n",
      "        Other input arguments that will be passed on to `plt.savefig`; e.g. dpi or facecolor.\n",
      "    _cf : Internal parameter for recursion and adjustment.\n",
      "    \"\"\"\n",
      "\n",
      "    # Import PyPDF2\n",
      "    from PyPDF2 import PdfFileReader    \n",
      "    \n",
      "    # Check `extent` input and set bbox_inches and pad_inches accordingly\n",
      "    if np.size(extent) == 1:\n",
      "        bbox_inches = 'tight'\n",
      "        pad_inches = extent\n",
      "    else:\n",
      "        fext = fhndl.gca().get_window_extent().transformed(\n",
      "                fhndl.dpi_scale_trans.inverted())\n",
      "        if np.size(extent) == 2:\n",
      "            bbox_inches = fext.expanded(extent[0], extent[1])\n",
      "        elif np.size(extent) == 4:\n",
      "            fext.x0, fext.y0, fext.x1, fext.y1 = extent\n",
      "            extent = [1, 1] # set extent to [1, 1] for recursion\n",
      "            bbox_inches = fext\n",
      "        pad_inches=0\n",
      "        \n",
      "    # Save the figure\n",
      "    fhndl.savefig(name+'.pdf', bbox_inches=bbox_inches, pad_inches=pad_inches, **kwargs)\n",
      "\n",
      "    # Get pdf-dimensions in cm\n",
      "    pdffile = PdfFileReader(open(name+'.pdf', mode='rb'))\n",
      "    pdfsize = np.array([float(pdffile.getPage(0).mediaBox[2]),\n",
      "               float(pdffile.getPage(0).mediaBox[3])])\n",
      "    pdfdim = pdfsize*2.54/72. # points to cm\n",
      "        \n",
      "    # Define `print`-precision on desired precision\n",
      "    pprec = abs(int(('%.1e' % precision).split('e')[1]))+1\n",
      "    \n",
      "    # Get difference btw desired and actual size\n",
      "    diff = dsize-pdfdim\n",
      "    \n",
      "    # If diff>precision, adjust, else finish\n",
      "    if np.any(abs(diff) > precision):\n",
      "        if not _cf:\n",
      "            _cf = [1, 1]\n",
      "        \n",
      "        # Be verbose\n",
      "        print('  resize...')\n",
      "        \n",
      "        # Adjust width\n",
      "        if (abs(diff[0]) > precision):\n",
      "            print('        X-diff:', np.round(diff[0], pprec), 'cm')\n",
      "            \n",
      "            # Set new factor to old factor times (desired size)/(actual size)\n",
      "            _cf[0] = _cf[0]*dsize[0]/pdfdim[0]\n",
      "            \n",
      "            # Set new figure width\n",
      "            fhndl.set_figwidth(_cf[0]*dsize[0]/2.54) # cm2in\n",
      "\n",
      "        # Adjust height\n",
      "        if (abs(diff[1]) > precision):\n",
      "            print('        Y-diff:', np.round(diff[1], pprec), 'cm')\n",
      "            \n",
      "            # Set new factor to old factor times (desired size)/(actual size)\n",
      "            _cf[1] = _cf[1]*dsize[1]/pdfdim[1]\n",
      "            \n",
      "            # Set new figure height\n",
      "            fhndl.set_figheight(_cf[1]*dsize[1]/2.54) #cm2in\n",
      "        \n",
      "        # Call the function again, with new factor _cf\n",
      "        figsize = checksize(fhndl, name, dsize, precision, extent, kwargs, _cf)\n",
      "\n",
      "        return figsize\n",
      "\n",
      "    else: # Print some info if the desired dimensions are reached\n",
      "        \n",
      "        # Print figure name and pdf dimensions\n",
      "        print('Figure saved to '+name +'.pdf;',\n",
      "              np.round(pdfdim[0], pprec), 'x',\n",
      "              np.round(pdfdim[1], pprec), 'cm.')\n",
      "        \n",
      "        # Print the new figsize if it had to be adjusted\n",
      "        if _cf:\n",
      "            print('     => NEW FIG-SIZE: figsize=('+\n",
      "                  str(np.round(fhndl.get_size_inches()[0], 2*pprec))+', '+\n",
      "                  str(np.round(fhndl.get_size_inches()[1], 2*pprec))+')')\n",
      "            \n",
      "        # Return figsize\n",
      "        return fhndl.get_size_inches()\n"
     ],
     "language": "python",
     "metadata": {},
     "outputs": [],
     "prompt_number": 3
    },
    {
     "cell_type": "markdown",
     "metadata": {},
     "source": [
      "### Example\n",
      "\n",
      "Generate some data to plot."
     ]
    },
    {
     "cell_type": "code",
     "collapsed": false,
     "input": [
      "xdata = np.linspace(0, 2*np.pi, 201)\n",
      "ydata = np.sin(xdata)\n",
      "xpdata = np.arange(5)*np.pi/2\n",
      "ypdata = np.sin(xpdata)\n",
      "\n",
      "# Small function to plot the data\n",
      "def plot_data():\n",
      "    plt.plot(xdata, ydata, c=clr[0], lw=2)\n",
      "    plt.plot(xpdata, ypdata, 'o', mec='none', mfc=clr[1], ms=10)\n",
      "    plt.xlabel('x')\n",
      "    plt.ylabel('sin(x)')\n",
      "    plt.xticks(xpdata, (r'0', r'$\\pi$/2', r'$\\pi$', r'3$\\pi$/2', r'2$\\pi$'))\n",
      "    plt.yticks([-1, 0, 1])\n",
      "    plt.axis([0, 2*np.pi, -1.2, 1.2])\n",
      "    \n",
      "# Small function to load pdf and get dimension\n",
      "def get_pdf_dim(name):\n",
      "    pdffile = PdfFileReader(open(name, mode='rb'))\n",
      "    pdfsize = np.array([float(pdffile.getPage(0).mediaBox[2]),\n",
      "               float(pdffile.getPage(0).mediaBox[3])])\n",
      "    return np.round(pdfsize*2.54/72., 3) # points to cm, rounded"
     ],
     "language": "python",
     "metadata": {},
     "outputs": [],
     "prompt_number": 4
    },
    {
     "cell_type": "markdown",
     "metadata": {},
     "source": [
      "First I create a normal plot. I would like a plot of dimensions 7 cm by 5 cm. The `figsize` argument of `plt.figure` takes inches, hence I have to divide our centimetres by 2.54."
     ]
    },
    {
     "cell_type": "code",
     "collapsed": false,
     "input": [
      "fig1 = plt.figure(figsize=(7/2.54, 5/2.54))\n",
      "plot_data()"
     ],
     "language": "python",
     "metadata": {},
     "outputs": [
      {
       "metadata": {},
       "output_type": "display_data",
       "png": "[encoded data removed]",
       "text": [
        "<matplotlib.figure.Figure at 0x7fc2041a21d0>"
       ]
      }
     ],
     "prompt_number": 5
    },
    {
     "cell_type": "markdown",
     "metadata": {},
     "source": [
      "I now save the figure with `plt.savefig`, with a facecolor in order to see exactly what was saved if I load the figure again. If I check the dimensions of the pdf, we see that the actual size is bigger than the specified size of 7 cm by 5 cm. The actual size depends on the tick-labels, on the axis-labels, titles, and other factors."
     ]
    },
    {
     "cell_type": "code",
     "collapsed": false,
     "input": [
      "# Save the figure to 'orig.pdf'\n",
      "fig1.savefig('data/checksize/orig.pdf', bbox_inches='tight', facecolor='.9')\n",
      "\n",
      "# Get pdf-dimensions\n",
      "pdfdim = get_pdf_dim('data/checksize/orig.pdf')\n",
      "print('Pdf width x height:', pdfdim[0], 'x', pdfdim[1], 'cm')\n",
      "\n",
      "# Load image\n",
      "Image(filename='data/checksize/orig.pdf')"
     ],
     "language": "python",
     "metadata": {},
     "outputs": [
      {
       "output_type": "stream",
       "stream": "stdout",
       "text": [
        "Pdf width x height: 7.819 x 5.763 cm\n"
       ]
      },
      {
       "metadata": {},
       "output_type": "pyout",
       "png": "[encoded data removed]",
       "prompt_number": 6,
       "text": [
        "<wand.image.Image: 58c2768 'PDF' (222x163)>"
       ]
      }
     ],
     "prompt_number": 6
    },
    {
     "cell_type": "markdown",
     "metadata": {},
     "source": [
      "I save the figure now with `checksize`, providing the desired dimension of 7 cm by 5 cm; I do not specify the precision, the default precision of 1 mm is therefore applied."
     ]
    },
    {
     "cell_type": "code",
     "collapsed": false,
     "input": [
      "figsize = checksize(fig1, 'data/checksize/check1', dsize=[7.0, 5.0], kwargs={'facecolor':'.9'})"
     ],
     "language": "python",
     "metadata": {},
     "outputs": [
      {
       "output_type": "stream",
       "stream": "stdout",
       "text": [
        "  resize...\n",
        "        X-diff: -0.565 cm\n",
        "        Y-diff: -0.509 cm\n",
        "  resize..."
       ]
      },
      {
       "output_type": "stream",
       "stream": "stdout",
       "text": [
        "\n",
        "        X-diff: -0.16 cm\n",
        "        Y-diff: -0.151 cm\n",
        "  resize..."
       ]
      },
      {
       "output_type": "stream",
       "stream": "stdout",
       "text": [
        "\n",
        "        X-diff: -0.048 cm\n",
        "        Y-diff: -0.048 cm\n",
        "  resize..."
       ]
      },
      {
       "output_type": "stream",
       "stream": "stdout",
       "text": [
        "\n",
        "        X-diff: -0.015 cm\n",
        "        Y-diff: -0.015 cm\n",
        "Figure saved to data/checksize/check1.pdf;"
       ]
      },
      {
       "output_type": "stream",
       "stream": "stdout",
       "text": [
        " 7.004 x 5.005 cm.\n",
        "     => NEW FIG-SIZE: figsize=(2.470962, 1.712652)\n"
       ]
      }
     ],
     "prompt_number": 7
    },
    {
     "cell_type": "markdown",
     "metadata": {},
     "source": [
      "`checksize` detects that the output dimension is different from the desired dimension, and adjusts it accordingly. If the precision is set too low, this process can take many iterations, and even fall into and endless loop. But one millimetre or a tenth of it is generally not a problem.\n",
      "\n",
      "To check if `checksize` did a proper job, I do the same to control the pdf dimension as I did before:"
     ]
    },
    {
     "cell_type": "code",
     "collapsed": false,
     "input": [
      "# Get pdf-dimensions\n",
      "pdfdim = get_pdf_dim('data/checksize/check1.pdf')\n",
      "print('Pdf width x height:', pdfdim[0], 'x', pdfdim[1], 'cm')\n",
      "\n",
      "# Load image\n",
      "Image(filename='data/checksize/check1.pdf')"
     ],
     "language": "python",
     "metadata": {},
     "outputs": [
      {
       "output_type": "stream",
       "stream": "stdout",
       "text": [
        "Pdf width x height: 7.004 x 5.005 cm\n"
       ]
      },
      {
       "metadata": {},
       "output_type": "pyout",
       "png": "[encoded data removed]",
       "prompt_number": 8,
       "text": [
        "<wand.image.Image: 780bdb4 'PDF' (199x142)>"
       ]
      }
     ],
     "prompt_number": 8
    },
    {
     "cell_type": "markdown",
     "metadata": {},
     "source": [
      "If `checksize` has to change the dimensions, it prints the new figure size at the end, and also returns the new values. I can now provide the updated `figsize` when I create the figure:"
     ]
    },
    {
     "cell_type": "code",
     "collapsed": false,
     "input": [
      "fig2 = plt.figure(figsize=figsize)\n",
      "plot_data()\n",
      "figsize = checksize(fig2, 'data/checksize/check2', dsize=[7.0, 5.0], kwargs={'facecolor':'.9'})"
     ],
     "language": "python",
     "metadata": {},
     "outputs": [
      {
       "output_type": "stream",
       "stream": "stdout",
       "text": [
        "Figure saved to data/checksize/check2.pdf; 7.004 x 5.005 cm.\n"
       ]
      },
      {
       "metadata": {},
       "output_type": "display_data",
       "png": "[encoded data removed]",
       "text": [
        "<matplotlib.figure.Figure at 0x7fc20414fcc0>"
       ]
      }
     ],
     "prompt_number": 9
    },
    {
     "cell_type": "markdown",
     "metadata": {},
     "source": [
      "With the adjusted `figsize` the figure is saved with the correct dimensions straight away, no looping is required anymore. Of course, it is likely to change if you make changes to the plot.\n",
      "\n",
      "You can play around with the `extent` argument to adjust the space around the figure. For some figures, `checksize` does not work very well; e.g. figures with 3D axis, or when the axis are set to equal. Again, have a go with the `extent`-parameter, it might help in those cases too."
     ]
    }
   ],
   "metadata": {}
  }
 ]
}