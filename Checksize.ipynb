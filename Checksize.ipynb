{
 "metadata": {
  "name": "",
  "signature": "sha256:639736761e648b57a98d18789fee884a77ddbb60e81c980057cb2739cc9a5b76"
 },
 "nbformat": 3,
 "nbformat_minor": 0,
 "worksheets": [
  {
   "cells": [
    {
     "cell_type": "markdown",
     "metadata": {},
     "source": [
      "## checksize()\n"
     ]
    },
    {
     "cell_type": "code",
     "collapsed": false,
     "input": [
      "import numpy as np\n",
      "import matplotlib as mpl\n",
      "import matplotlib.pyplot as plt\n",
      "# Increase font size,\n",
      "mpl.rc('font', size=16)\n",
      "# Define colours (taken from http://colorbrewer2.org)\n",
      "clr = ['#377eb8', '#e41a1c', '#4daf4a', '#984ea3', '#ff7f00', '#ffff33', '#a65628']"
     ],
     "language": "python",
     "metadata": {},
     "outputs": [],
     "prompt_number": 1
    },
    {
     "cell_type": "markdown",
     "metadata": {},
     "source": [
      "### Load the `....`-function\n",
      "(You can find it in the notebook `adashof.ipynb`, in the same repo as this notebook)."
     ]
    },
    {
     "cell_type": "code",
     "collapsed": true,
     "input": [
      "#%load /home/dtr/TMP/dw_phdthesis_2013_CD-ROM/Python/jsempy/utils/thesisplot.py"
     ],
     "language": "python",
     "metadata": {},
     "outputs": [],
     "prompt_number": 2
    },
    {
     "cell_type": "code",
     "collapsed": false,
     "input": [
      "from PyPDF2 import PdfFileReader\n",
      "\n",
      "def printfig(fhndl, name, dsize=[1, 1], cf=[1,1], extent='tight', _changed=False):\n",
      "    \"\"\"Print figure with 'name.pdf' and check final size.\n",
      "\n",
      "    Parameters\n",
      "    ----------\n",
      "    fhndl : figure-handle\n",
      "        Figure handle of the figure to be saved.\n",
      "    name : string,\n",
      "        Figure name.\n",
      "    dsize : list, optional; <[1, 1]>\n",
      "        Desired size of pdf in cm.\n",
      "    cf : list or string, optional; <[1, 1]>\n",
      "        Correction factor for autocorrection, DON'T USE MANUALLY.\n",
      "        This is useful for manual adjustmens, if the automatic system fails.\n",
      "    extent : string or list, optional; <'tight'>\n",
      "        If 'tight', then bbox_inches is set to tight. otherwise it is an array\n",
      "        of two numbers for the percentual extent-width.\n",
      "    _changed : bool; internal fct for recursion.\n",
      "\n",
      "    Examples\n",
      "    --------\n",
      "    >>> from jsempy.utils import thesisplot\n",
      "    >>> dim = thesisplot.setrcp()\n",
      "    >>> fig1 = plt.figure()\n",
      "    >>> plt.plot(np.linspace(0,10,101))\n",
      "    [<matplotlib.lines.Line2D at 0x3c59ed0>]\n",
      "    >>> thesisplot.printfig(fig1, 'test', dsize=dim)\n",
      "    *** RE-SIZING WIDTH *** diff: 2.51427173615\n",
      "    *** RE-SIZING WIDTH *** diff: 0.152072906494\n",
      "    *** RE-SIZING WIDTH *** diff: 0.0142784118652\n",
      "    *** RE-SIZING HEIGHT *** diff: -0.00540542602539\n",
      "    *** RE-SIZING HEIGHT *** diff: -0.00540542602539\n",
      "    Figure saved to /home/s1061299/Desktop/test.pdf\n",
      "    *** cf CHANGED *** : [1.2238, 1.19075]\n",
      "\n",
      "    Next time, this cf value can be given as argument in `thesisplot.setrcp()`\n",
      "\n",
      "    >>> dim = thesisplot.setrcp(cf=[1.2238, 1.19075])\n",
      "\n",
      "    \"\"\"\n",
      "    \n",
      "    # Save figure\n",
      "    if extent == 'tight':\n",
      "        bbox_inches = 'tight'\n",
      "        pad_inches=0.007\n",
      "    else:\n",
      "        fext = fhndl.gca().get_window_extent().transformed(\n",
      "                fhndl.dpi_scale_trans.inverted())\n",
      "        if len(extent) == 2:\n",
      "            bbox_inches = fext.expanded(extent[0], extent[1])\n",
      "        elif len(extent) == 4:\n",
      "            fext.x0, fext.y0, fext.x1, fext.y1 = extent\n",
      "            extent = [1, 1]\n",
      "            bbox_inches = fext\n",
      "        pad_inches=0\n",
      "        \n",
      "    fhndl.savefig(name+'.pdf', bbox_inches=bbox_inches, dpi=600, pad_inches=pad_inches)\n",
      "\n",
      "    # Get pdf-dimensions\n",
      "    pdffile = PdfFileReader(file(name+'.pdf'))\n",
      "    pdfsize = [float(pdffile.getPage(0).mediaBox[2]),\n",
      "               float(pdffile.getPage(0).mediaBox[3])]\n",
      "    pdfdim = np.round(pdfsize*2.54/72., 10)          # points to cm\n",
      "\n",
      "    if (abs(dsize[0] - pdfdim[0]) > 0.011): # Adjust width\n",
      "        print('*** RE-SIZING WIDTH *** diff:', dsize[0]-pdfdim[0])\n",
      "        # print cf[0], dsize[0], pdfdim[0]\n",
      "        cf[0] = np.round(cf[0]*dsize[0]/pdfdim[0], 5)\n",
      "        fhndl.set_figwidth(np.round(cf[0]*dsize[0]/2.54, 2)) # cm2in\n",
      "        plt.draw()\n",
      "        printfig(fhndl, name, form, dsize, cf=cf, extent=extent, _changed=True)\n",
      "\n",
      "    elif (abs(dsize[1] - pdfdim[1]) > 0.011): # Adjust height\n",
      "        print('*** RE-SIZING HEIGHT *** diff:', dsize[0]-pdfdim[0])\n",
      "        # print cf[1], dsize[1], pdfdim[1], abs(dsize[1] - pdfdim[1])\n",
      "        cf[1] = np.round(cf[1]*dsize[1]/pdfdim[1], 5)\n",
      "        fhndl.set_figheight(np.round(cf[1]*dsize[1]/2.54, 2)) #cm2in\n",
      "        plt.draw()\n",
      "        printfig(fhndl, name, form, dsize, cf=cf, extent=extent, _changed=True)\n",
      "\n",
      "    else:\n",
      "        # print cf[0], dsize[0], pdfdim[0], abs(dsize[0] - pdfdim[0])\n",
      "        # print cf[1], dsize[1], pdfdim[1], abs(dsize[1] - pdfdim[1])\n",
      "        print('Figure saved to '+name +'.pdf')\n",
      "        if _changed:\n",
      "            print('*** cf CHANGED *** :', cf)\n",
      "        plt.close(fhndl)\n",
      "        plt.rcdefaults"
     ],
     "language": "python",
     "metadata": {},
     "outputs": [],
     "prompt_number": 6
    },
    {
     "cell_type": "code",
     "collapsed": false,
     "input": [
      "#    ratio : string, optional; {<sr>, gr, ft, square}\n",
      "#        Aspect ratio\n",
      "#            - sr: 1.41 -- sqrt(2) [din-norm]\n",
      "\n",
      "\n",
      "#    # Get figure dimensions\n",
      "#    dim = figsize(figwidth=figwidth, ratio=ratio, pw=pw, vmult=vmult)\n",
      "#    figsize = np.round(cf*dim/2.54, 2) # cm2in\n"
     ],
     "language": "python",
     "metadata": {},
     "outputs": [],
     "prompt_number": 7
    },
    {
     "cell_type": "code",
     "collapsed": false,
     "input": [],
     "language": "python",
     "metadata": {},
     "outputs": []
    }
   ],
   "metadata": {}
  }
 ]
}