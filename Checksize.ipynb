{
 "metadata": {
  "name": "",
  "signature": "sha256:fe3cf21c12fbd6a9edd20b15670e69bc843d5736df55525f56a9c2764dff319f"
 },
 "nbformat": 3,
 "nbformat_minor": 0,
 "worksheets": [
  {
   "cells": [
    {
     "cell_type": "markdown",
     "metadata": {},
     "source": [
      "## checksize()\n"
     ]
    },
    {
     "cell_type": "code",
     "collapsed": false,
     "input": [
      "import numpy as np\n",
      "import matplotlib as mpl\n",
      "import matplotlib.pyplot as plt\n",
      "# Increase font size,\n",
      "mpl.rc('font', size=16)\n",
      "# Define colours (taken from http://colorbrewer2.org)\n",
      "clr = ['#377eb8', '#e41a1c', '#4daf4a', '#984ea3', '#ff7f00', '#ffff33', '#a65628']"
     ],
     "language": "python",
     "metadata": {},
     "outputs": [],
     "prompt_number": 1
    },
    {
     "cell_type": "markdown",
     "metadata": {},
     "source": [
      "### Load the `....`-function\n",
      "(You can find it in the notebook `adashof.ipynb`, in the same repo as this notebook)."
     ]
    },
    {
     "cell_type": "code",
     "collapsed": true,
     "input": [
      "%load -s checksize adashof.py"
     ],
     "language": "python",
     "metadata": {},
     "outputs": [],
     "prompt_number": 2
    },
    {
     "cell_type": "code",
     "collapsed": false,
     "input": [
      "def checksize(fhndl, name, dsize=[1, 1], precision=0.01, dpi=300, extent=0.01, _cf=False):\n",
      "    \"\"\"Print figure with 'name.pdf', check size, compare with dsize, and adjust if required\n",
      "\n",
      "    Parameters\n",
      "    ----------\n",
      "    fhndl : figure-handle\n",
      "        Figure handle of the figure to be saved.\n",
      "    name : string\n",
      "        Figure name.\n",
      "    dsize : list, optional; <[1, 1]>\n",
      "        Desired size of pdf in cm.\n",
      "    precision : float, optional; <0.01>\n",
      "        Desired precision in cm of the dimension, defaults to 1 mm.\n",
      "    dpi : int, optional; <300>\n",
      "        dpi, as used for savefig.\n",
      "    extent : float or list of floats, optional; <0.01>\n",
      "        If float, then bbox_inches is set to tight, and pad_inches=extent.\n",
      "        If it is an array of two numbers it sets the percentual extent-width,\n",
      "        `Bbox.expanded`.\n",
      "        If it is an array of four numbers it sets [x0, y0, x1, y1] of Bbox.\n",
      "    _cf : Internal parameter for recursion and adjustment.\n",
      "    \"\"\"\n",
      "\n",
      "    # Load PyPDF2\n",
      "    from PyPDF2 import PdfFileReader    \n",
      "    \n",
      "    # Check `extent` input and set bbox_inches and pad_inches accordingly\n",
      "    if np.size(extent) == 1:\n",
      "        bbox_inches = 'tight'\n",
      "        pad_inches = extent\n",
      "    else:\n",
      "        fext = fhndl.gca().get_window_extent().transformed(\n",
      "                fhndl.dpi_scale_trans.inverted())\n",
      "        if np.size(extent) == 2:\n",
      "            bbox_inches = fext.expanded(extent[0], extent[1])\n",
      "        elif np.size(extent) == 4:\n",
      "            fext.x0, fext.y0, fext.x1, fext.y1 = extent\n",
      "            extent = [1, 1] # set extent to [1, 1] for recursion\n",
      "            bbox_inches = fext\n",
      "        pad_inches=0\n",
      "        \n",
      "    # Save the figure\n",
      "    fhndl.savefig(name+'.pdf', bbox_inches=bbox_inches, dpi=dpi, pad_inches=pad_inches)\n",
      "\n",
      "    # Get pdf-dimensions in cm\n",
      "    pdffile = PdfFileReader(open(name+'.pdf', mode='rb'))\n",
      "    pdfsize = np.array([float(pdffile.getPage(0).mediaBox[2]),\n",
      "               float(pdffile.getPage(0).mediaBox[3])])\n",
      "    pdfdim = np.round(pdfsize*2.54/72., 10) # points to cm\n",
      "        \n",
      "    # Define `print` precision on desired precision\n",
      "    pprec = abs(int(('%.3e' % precision).split('e')[1]))+1\n",
      "    \n",
      "    # Get difference btw desired and actual size\n",
      "    diff = dsize-pdfdim\n",
      "    \n",
      "    # If diff>precision, adjust, else finish\n",
      "    if (abs(diff[0]) > precision) or (abs(diff[1]) > precision):\n",
      "        if not _cf:\n",
      "            _cf = [1, 1]\n",
      "        \n",
      "        # Be verbose\n",
      "        print('  resize...')\n",
      "        \n",
      "        # Adjust width\n",
      "        if (abs(diff[0]) > precision):\n",
      "            print('        X-diff:', np.round(diff[0], pprec), 'cm.')\n",
      "            \n",
      "            # Set new factor to old factor times desired size / actual size\n",
      "            _cf[0] = _cf[0]*dsize[0]/pdfdim[0]\n",
      "            \n",
      "            # Set new figure width\n",
      "            fhndl.set_figwidth(_cf[0]*dsize[0]/2.54) # cm2in\n",
      "\n",
      "        # Adjust height\n",
      "        if (abs(diff[1]) > precision):\n",
      "            print('        Y-diff:', np.round(diff[1], pprec), 'cm.')\n",
      "            \n",
      "            # Set new factor to old factor times desired size / actual size\n",
      "            _cf[1] = _cf[1]*dsize[1]/pdfdim[1]\n",
      "            \n",
      "            # Set new figure height\n",
      "            fhndl.set_figheight(_cf[1]*dsize[1]/2.54) #cm2in\n",
      "        \n",
      "        # Draw figure and call the function again, with new factor _cf\n",
      "        plt.draw()\n",
      "        checksize(fhndl, name, dsize, precision, extent=extent, _cf=_cf)\n",
      "\n",
      "    else:\n",
      "        \n",
      "        # Print some info if the desired dimensions are reached\n",
      "        \n",
      "        # Print figure name and pdf dimensions\n",
      "        print('Figure saved to '+name +'.pdf;',\n",
      "              np.round(pdfdim[0], pprec), 'x',\n",
      "              np.round(pdfdim[1], pprec), 'cm.')\n",
      "        \n",
      "        # Print the required figsize if it had to be adjusted\n",
      "        if _cf:\n",
      "            print('     => CHANGE FIG-SIZE: figsize=('+\n",
      "                  str(np.round(fhndl.get_size_inches()[0], 2*pprec))+', '+\n",
      "                  str(np.round(fhndl.get_size_inches()[1], 2*pprec))+')')\n",
      "            \n",
      "        # Close handle and reset\n",
      "        plt.close(fhndl)\n",
      "        plt.rcdefaults\n"
     ],
     "language": "python",
     "metadata": {},
     "outputs": [],
     "prompt_number": 3
    },
    {
     "cell_type": "code",
     "collapsed": false,
     "input": [
      "fig = plt.figure(figsize=(5/2.54, 5/2.54))\n",
      "a=plt.plot(np.arange(100))\n",
      "checksize(fig, 'test', dsize=[5.0, 5.0], precision=.002)"
     ],
     "language": "python",
     "metadata": {},
     "outputs": [
      {
       "output_type": "stream",
       "stream": "stdout",
       "text": [
        "  resize...\n",
        "        X-diff: -0.5345 cm.\n",
        "        Y-diff: 0.1137 cm.\n",
        "  resize..."
       ]
      },
      {
       "output_type": "stream",
       "stream": "stdout",
       "text": [
        "\n",
        "        X-diff: -0.1603 cm.\n",
        "        Y-diff: 0.0235 cm.\n",
        "  resize..."
       ]
      },
      {
       "output_type": "stream",
       "stream": "stdout",
       "text": [
        "\n",
        "        X-diff: -0.0515 cm.\n",
        "        Y-diff: 0.0048 cm.\n",
        "  resize..."
       ]
      },
      {
       "output_type": "stream",
       "stream": "stdout",
       "text": [
        "\n",
        "        X-diff: -0.0169 cm.\n",
        "  resize..."
       ]
      },
      {
       "output_type": "stream",
       "stream": "stdout",
       "text": [
        "\n",
        "        X-diff: -0.0056 cm.\n",
        "Figure saved to test.pdf;"
       ]
      },
      {
       "output_type": "stream",
       "stream": "stdout",
       "text": [
        " 5.0019 x 4.999 cm.\n",
        "     => CHANGE FIG-SIZE: figsize=(1.69790968, 2.02577556)\n"
       ]
      }
     ],
     "prompt_number": 5
    }
   ],
   "metadata": {}
  }
 ]
}