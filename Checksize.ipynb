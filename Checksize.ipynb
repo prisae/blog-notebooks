{
 "metadata": {
  "name": "",
  "signature": "sha256:e8792e9b3961e2a62ce36ffdd445cf020157a7ccfa13c585b8eeda8af7f377f0"
 },
 "nbformat": 3,
 "nbformat_minor": 0,
 "worksheets": [
  {
   "cells": [
    {
     "cell_type": "markdown",
     "metadata": {},
     "source": [
      "## checksize()\n"
     ]
    },
    {
     "cell_type": "code",
     "collapsed": false,
     "input": [
      "import numpy as np\n",
      "import matplotlib as mpl\n",
      "import matplotlib.pyplot as plt\n",
      "# Increase font size,\n",
      "mpl.rc('font', size=16)\n",
      "# Define colours (taken from http://colorbrewer2.org)\n",
      "clr = ['#377eb8', '#e41a1c', '#4daf4a', '#984ea3', '#ff7f00', '#ffff33', '#a65628']"
     ],
     "language": "python",
     "metadata": {},
     "outputs": [],
     "prompt_number": 1
    },
    {
     "cell_type": "markdown",
     "metadata": {},
     "source": [
      "### Load the `....`-function\n",
      "(You can find it in the notebook `adashof.ipynb`, in the same repo as this notebook)."
     ]
    },
    {
     "cell_type": "code",
     "collapsed": true,
     "input": [
      "#%load /home/dtr/TMP/dw_phdthesis_2013_CD-ROM/Python/jsempy/utils/thesisplot.py"
     ],
     "language": "python",
     "metadata": {},
     "outputs": [],
     "prompt_number": 2
    },
    {
     "cell_type": "code",
     "collapsed": false,
     "input": [
      "from PyPDF2 import PdfFileReader\n",
      "\n",
      "def printfig(fhndl, name, dsize=[1, 1], precision=0.01, cf=[1,1], extent='tight', _changed=False):\n",
      "    \"\"\"Print figure with 'name.pdf' and check final size.\n",
      "\n",
      "    Parameters\n",
      "    ----------\n",
      "    fhndl : figure-handle\n",
      "        Figure handle of the figure to be saved.\n",
      "    name : string,\n",
      "        Figure name.\n",
      "    dsize : list, optional; <[1, 1]>\n",
      "        Desired size of pdf in cm.\n",
      "    cf : list or string, optional; <[1, 1]>\n",
      "        Correction factor for autocorrection, DON'T USE MANUALLY.\n",
      "        This is useful for manual adjustmens, if the automatic system fails.\n",
      "    extent : string or list, optional; <'tight'>\n",
      "        If 'tight', then bbox_inches is set to tight. otherwise it is an array\n",
      "        of two numbers for the percentual extent-width.\n",
      "    _changed : bool; internal fct for recursion.\n",
      "\n",
      "    Examples\n",
      "    --------\n",
      "    >>> from jsempy.utils import thesisplot\n",
      "    >>> dim = thesisplot.setrcp()\n",
      "    >>> fig1 = plt.figure()\n",
      "    >>> plt.plot(np.linspace(0,10,101))\n",
      "    [<matplotlib.lines.Line2D at 0x3c59ed0>]\n",
      "    >>> thesisplot.printfig(fig1, 'test', dsize=dim)\n",
      "    *** RE-SIZING WIDTH *** diff: 2.51427173615\n",
      "    *** RE-SIZING WIDTH *** diff: 0.152072906494\n",
      "    *** RE-SIZING WIDTH *** diff: 0.0142784118652\n",
      "    *** RE-SIZING HEIGHT *** diff: -0.00540542602539\n",
      "    *** RE-SIZING HEIGHT *** diff: -0.00540542602539\n",
      "    Figure saved to /home/s1061299/Desktop/test.pdf\n",
      "    *** cf CHANGED *** : [1.2238, 1.19075]\n",
      "\n",
      "    Next time, this cf value can be given as argument in `thesisplot.setrcp()`\n",
      "\n",
      "    >>> dim = thesisplot.setrcp(cf=[1.2238, 1.19075])\n",
      "\n",
      "    \"\"\"\n",
      "    \n",
      "    # Save figure\n",
      "    if extent == 'tight':\n",
      "        bbox_inches = 'tight'\n",
      "        pad_inches=0.007\n",
      "    else:\n",
      "        fext = fhndl.gca().get_window_extent().transformed(\n",
      "                fhndl.dpi_scale_trans.inverted())\n",
      "        if len(extent) == 2:\n",
      "            bbox_inches = fext.expanded(extent[0], extent[1])\n",
      "        elif len(extent) == 4:\n",
      "            fext.x0, fext.y0, fext.x1, fext.y1 = extent\n",
      "            extent = [1, 1]\n",
      "            bbox_inches = fext\n",
      "        pad_inches=0\n",
      "        \n",
      "    fhndl.savefig(name+'.pdf', bbox_inches=bbox_inches, dpi=600, pad_inches=pad_inches)\n",
      "\n",
      "    # Get pdf-dimensions\n",
      "    pdffile = PdfFileReader(open(name+'.pdf', mode='rb'))\n",
      "    pdfsize = np.array([float(pdffile.getPage(0).mediaBox[2]),\n",
      "               float(pdffile.getPage(0).mediaBox[3])])\n",
      "    pdfdim = np.round(pdfsize*2.54/72., 10)          # points to cm\n",
      "\n",
      "    diff = dsize-pdfdim\n",
      "    if (abs(diff[0]) > precision): # Adjust width\n",
      "        print('  ...re-sizing WIDTH,  x-diff:', np.round(diff[0], 3), 'cm.')\n",
      "        cf[0] = np.round(cf[0]*dsize[0]/pdfdim[0], 5)\n",
      "        fhndl.set_figwidth(np.round(cf[0]*dsize[0]/2.54, 2)) # cm2in\n",
      "        plt.draw()\n",
      "        printfig(fhndl, name, dsize, precision, cf=cf, extent=extent, _changed=True)\n",
      "\n",
      "    elif (abs(diff[1]) > precision): # Adjust height\n",
      "        print('  ...re-sizing HEIGHT, y-diff:', np.round(diff[1], 3), 'cm.')\n",
      "        cf[1] = np.round(cf[1]*dsize[1]/pdfdim[1], 5)\n",
      "        fhndl.set_figheight(np.round(cf[1]*dsize[1]/2.54, 2)) #cm2in\n",
      "        plt.draw()\n",
      "        printfig(fhndl, name, dsize, precision, cf=cf, extent=extent, _changed=True)\n",
      "\n",
      "    else:\n",
      "        print('Figure saved to '+name +'.pdf;', np.round(pdfdim[0], 2), 'x', np.round(pdfdim[1], 2), 'cm.')\n",
      "        if _changed:\n",
      "            print('     => CHANGE FIG-SIZE: figsize=('+str(fhndl.get_size_inches()[0])+', '+str(fhndl.get_size_inches()[1])+')')\n",
      "        plt.close(fhndl)\n",
      "        plt.rcdefaults"
     ],
     "language": "python",
     "metadata": {},
     "outputs": [],
     "prompt_number": 29
    },
    {
     "cell_type": "code",
     "collapsed": false,
     "input": [
      "fig = plt.figure(figsize=(5/2.54, 5/2.54))\n",
      "\n",
      "a=plt.plot(np.arange(100))\n",
      "printfig(fig, 'test', dsize=[5.0, 5.0], precision=0.05)"
     ],
     "language": "python",
     "metadata": {},
     "outputs": [
      {
       "output_type": "stream",
       "stream": "stdout",
       "text": [
        "  ...re-sizing WIDTH,  x-diff: -0.519 cm.\n",
        "  ...re-sizing WIDTH,  x-diff:"
       ]
      },
      {
       "output_type": "stream",
       "stream": "stdout",
       "text": [
        " 0.305 cm.\n",
        "  ...re-sizing WIDTH,  x-diff:"
       ]
      },
      {
       "output_type": "stream",
       "stream": "stdout",
       "text": [
        " 0.108 cm.\n",
        "  ...re-sizing HEIGHT, y-diff:"
       ]
      },
      {
       "output_type": "stream",
       "stream": "stdout",
       "text": [
        " 0.129 cm.\n",
        "  ...re-sizing HEIGHT, y-diff:"
       ]
      },
      {
       "output_type": "stream",
       "stream": "stdout",
       "text": [
        " -0.11 cm.\n",
        "Figure saved to test.pdf;"
       ]
      },
      {
       "output_type": "stream",
       "stream": "stdout",
       "text": [
        " 4.95 x 5.01 cm.\n",
        "     => CHANGE FIG-SIZE: figsize=(1.68, 2.04)\n"
       ]
      }
     ],
     "prompt_number": 34
    },
    {
     "cell_type": "code",
     "collapsed": false,
     "input": [
      "fig = plt.figure(figsize=(1.68, 2.04))\n",
      "a=plt.plot(np.arange(100))\n",
      "printfig(fig, 'test', [5, 5], 0.05)"
     ],
     "language": "python",
     "metadata": {},
     "outputs": [
      {
       "output_type": "stream",
       "stream": "stdout",
       "text": [
        "Figure saved to test.pdf; 4.95 x 5.01 cm.\n"
       ]
      }
     ],
     "prompt_number": 35
    },
    {
     "cell_type": "code",
     "collapsed": false,
     "input": [
      "fig = plt.figure(figsize=(3, 3))\n",
      "a=plt.plot(np.arange(100))\n",
      "printfig(fig, 'test', dsize=[5.0, 5.0], precision=0.05)"
     ],
     "language": "python",
     "metadata": {},
     "outputs": [
      {
       "output_type": "stream",
       "stream": "stdout",
       "text": [
        "  ...re-sizing WIDTH,  x-diff: -2.55 cm.\n",
        "  ...re-sizing WIDTH,  x-diff:"
       ]
      },
      {
       "output_type": "stream",
       "stream": "stdout",
       "text": [
        " 1.151 cm.\n",
        "  ...re-sizing WIDTH,  x-diff:"
       ]
      },
      {
       "output_type": "stream",
       "stream": "stdout",
       "text": [
        " 0.501 cm.\n",
        "  ...re-sizing WIDTH,  x-diff:"
       ]
      },
      {
       "output_type": "stream",
       "stream": "stdout",
       "text": [
        " 0.186 cm.\n",
        "  ...re-sizing WIDTH,  x-diff:"
       ]
      },
      {
       "output_type": "stream",
       "stream": "stdout",
       "text": [
        " 0.068 cm.\n",
        "  ...re-sizing HEIGHT, y-diff:"
       ]
      },
      {
       "output_type": "stream",
       "stream": "stdout",
       "text": [
        " -1.902 cm.\n",
        "  ...re-sizing HEIGHT, y-diff:"
       ]
      },
      {
       "output_type": "stream",
       "stream": "stdout",
       "text": [
        " 1.091 cm.\n",
        "  ...re-sizing HEIGHT, y-diff:"
       ]
      },
      {
       "output_type": "stream",
       "stream": "stdout",
       "text": [
        " 0.283 cm.\n",
        "Figure saved to test.pdf;"
       ]
      },
      {
       "output_type": "stream",
       "stream": "stdout",
       "text": [
        " 4.99 x 4.95 cm.\n",
        "     => CHANGE FIG-SIZE: figsize=(1.7, 2.01)\n"
       ]
      }
     ],
     "prompt_number": 36
    },
    {
     "cell_type": "code",
     "collapsed": false,
     "input": [
      "fig = plt.figure(figsize=(1.7, 2.01))\n",
      "a=plt.plot(np.arange(100))\n",
      "printfig(fig, 'test', dsize=[5.0, 5.0], precision=0.05)"
     ],
     "language": "python",
     "metadata": {},
     "outputs": [
      {
       "output_type": "stream",
       "stream": "stdout",
       "text": [
        "Figure saved to test.pdf; 4.99 x 4.95 cm.\n"
       ]
      }
     ],
     "prompt_number": 37
    },
    {
     "cell_type": "code",
     "collapsed": false,
     "input": [],
     "language": "python",
     "metadata": {},
     "outputs": []
    }
   ],
   "metadata": {}
  }
 ]
}