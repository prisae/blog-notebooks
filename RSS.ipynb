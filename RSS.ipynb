{
 "metadata": {
  "name": "",
  "signature": "sha256:673698da12db3f922e8d13a4cfeaba5d9bbf7be2536b31a43923dd9b54b691b5"
 },
 "nbformat": 3,
 "nbformat_minor": 0,
 "worksheets": [
  {
   "cells": [
    {
     "cell_type": "code",
     "collapsed": false,
     "input": [
      "import numpy as np\n",
      "from adashof import cm2in\n",
      "import matplotlib.pyplot as plt\n",
      "from matplotlib import rcParams, patheffects\n",
      "\n",
      "# Load xkcd and change some parameters\n",
      "plt.xkcd()\n",
      "rcParams['path.sketch'] = (.5, 25, 1)\n",
      "rcParams['path.effects'] = [patheffects.withStroke(linewidth=0, foreground=\"none\")]\n",
      "\n",
      "# Adjust dpi, so figure on screen and savefig looks the same\n",
      "rcParams['figure.dpi'] = 300\n",
      "rcParams['savefig.dpi'] = 300\n",
      "\n",
      "fig = plt.figure(figsize=(cm2in([.3,.3])))\n",
      "ax = plt.gca()\n",
      "ax.axis('equal')\n",
      "ax.set_axis_off()\n",
      "ax.set_xticks([])\n",
      "ax.set_yticks([])\n",
      "\n",
      "t1 = np.linspace(0, np.pi/2, 20)\n",
      "t2 = np.linspace(0, np.pi/2, 12)\n",
      "x = np.cos(t1)\n",
      "y = np.sin(t1)\n",
      "\n",
      "a = 1.1\n",
      "b = .9\n",
      "c = .7\n",
      "d = .5\n",
      "\n",
      "plt.fill(np.r_[a*x, b*x[-1::-1], a*x[0]], np.r_[a*y, b*y[-1::-1], a*y[0]], ec='#000099', fc='none', hatch='/////', lw=.5)\n",
      "plt.fill(np.r_[c*x, d*x[-1::-1], c*x[0]], np.r_[c*y, d*y[-1::-1], c*y[0]], ec='#000099', fc='none', hatch='//////', lw=.5)\n",
      "\n",
      "cc = plt.Circle([0.13,0.13], .12, ec='#000099', fc='none', hatch='//////', lw=.5)\n",
      "ax.add_patch(cc)\n",
      "\n",
      "ax.set_xlim([-.1, 1.15])\n",
      "ax.set_ylim([-.1, 1.15])\n",
      "\n",
      "#plt.savefig('plots/rss.png', bbox_inches='tight', pad_inches=0.02, transparent=True)\n",
      "plt.show()"
     ],
     "language": "python",
     "metadata": {},
     "outputs": [
      {
       "metadata": {},
       "output_type": "display_data",
       "png": "[encoded data removed]",
       "text": [
        "<matplotlib.figure.Figure at 0x7fe110129160>"
       ]
      }
     ],
     "prompt_number": 1
    }
   ],
   "metadata": {}
  }
 ]
}