{
 "metadata": {
  "name": "",
  "signature": "sha256:0c74c3193e06053e28c2e0bdbd432bd8feb9bec1f47672a76f0e81f1ee03541a"
 },
 "nbformat": 3,
 "nbformat_minor": 0,
 "worksheets": [
  {
   "cells": [
    {
     "cell_type": "markdown",
     "metadata": {},
     "source": [
      "## Demo.py: an example notebook\n",
      "\n",
      "This is a simple demo notebook to show the inclusion of an IPython notebook in Pelican with the plugin `liquid_tags`, specifically `notebook.py` ([full blog entry](http://werthmuller.org/blog/2014/aftershock)).\n",
      "\n",
      "$\\LaTeX$ is handled in the text as well as in figures,\n",
      "$$ \\int_a^b f(x)\\mathrm{d}x \\, . $$\n",
      "\n",
      "For demonstration purposes, I load the `integral_demo.py` from [matplotlib.org](http://matplotlib.org), display an image, and print some numbers. "
     ]
    },
    {
     "cell_type": "code",
     "collapsed": false,
     "input": [
      "%matplotlib inline\n",
      "%load http://matplotlib.org/mpl_examples/showcase/integral_demo.py"
     ],
     "language": "python",
     "metadata": {},
     "outputs": [],
     "prompt_number": 1
    },
    {
     "cell_type": "code",
     "collapsed": false,
     "input": [
      "\"\"\"\n",
      "Plot demonstrating the integral as the area under a curve.\n",
      "\n",
      "Although this is a simple example, it demonstrates some important tweaks:\n",
      "\n",
      "    * A simple line plot with custom color and line width.\n",
      "    * A shaded region created using a Polygon patch.\n",
      "    * A text label with mathtext rendering.\n",
      "    * figtext calls to label the x- and y-axes.\n",
      "    * Use of axis spines to hide the top and right spines.\n",
      "    * Custom tick placement and labels.\n",
      "\"\"\"\n",
      "import numpy as np\n",
      "import matplotlib.pyplot as plt\n",
      "from matplotlib.patches import Polygon\n",
      "\n",
      "\n",
      "def func(x):\n",
      "    return (x - 3) * (x - 5) * (x - 7) + 85\n",
      "\n",
      "\n",
      "a, b = 2, 9 # integral limits\n",
      "x = np.linspace(0, 10)\n",
      "y = func(x)\n",
      "\n",
      "fig, ax = plt.subplots()\n",
      "plt.plot(x, y, 'r', linewidth=2)\n",
      "plt.ylim(ymin=0)\n",
      "\n",
      "# Make the shaded region\n",
      "ix = np.linspace(a, b)\n",
      "iy = func(ix)\n",
      "verts = [(a, 0)] + list(zip(ix, iy)) + [(b, 0)]\n",
      "poly = Polygon(verts, facecolor='0.9', edgecolor='0.5')\n",
      "ax.add_patch(poly)\n",
      "\n",
      "plt.text(0.5 * (a + b), 30, r\"$\\int_a^b f(x)\\mathrm{d}x$\",\n",
      "         horizontalalignment='center', fontsize=20)\n",
      "\n",
      "plt.figtext(0.9, 0.05, '$x$')\n",
      "plt.figtext(0.1, 0.9, '$y$')\n",
      "\n",
      "ax.spines['right'].set_visible(False)\n",
      "ax.spines['top'].set_visible(False)\n",
      "ax.xaxis.set_ticks_position('bottom')\n",
      "\n",
      "ax.set_xticks((a, b))\n",
      "ax.set_xticklabels(('$a$', '$b$'))\n",
      "ax.set_yticks([])\n",
      "\n",
      "plt.show()\n"
     ],
     "language": "python",
     "metadata": {},
     "outputs": [
      {
       "metadata": {},
       "output_type": "display_data",
       "png": "[encoded data removed]",
       "text": [
        "<matplotlib.figure.Figure at 0x7f4594914278>"
       ]
      }
     ],
     "prompt_number": 2
    },
    {
     "cell_type": "code",
     "collapsed": false,
     "input": [
      "from IPython.display import Image\n",
      "Image(url='http://ipython.org/_static/IPy_header.png', width=360)"
     ],
     "language": "python",
     "metadata": {},
     "outputs": [
      {
       "html": [
        "<img src=\"http://ipython.org/_static/IPy_header.png\" width=\"360\"/>"
       ],
       "metadata": {},
       "output_type": "pyout",
       "prompt_number": 3,
       "text": [
        "<IPython.core.display.Image at 0x7f4595173d30>"
       ]
      }
     ],
     "prompt_number": 3
    },
    {
     "cell_type": "code",
     "collapsed": false,
     "input": [
      "print(y[:10])"
     ],
     "language": "python",
     "metadata": {},
     "outputs": [
      {
       "output_type": "stream",
       "stream": "stdout",
       "text": [
        "[-20.          -6.12644391   6.54863195  18.07622674  28.50733963\n",
        "  37.89296977  46.28411631  53.73177843  60.28695527  66.00064599]\n"
       ]
      }
     ],
     "prompt_number": 4
    },
    {
     "cell_type": "markdown",
     "metadata": {},
     "source": [
      "This is the last line of this IPython notebook example. What follows is again from the regular blog entry."
     ]
    }
   ],
   "metadata": {}
  }
 ]
}